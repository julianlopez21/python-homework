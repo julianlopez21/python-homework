{
 "cells": [
  {
   "cell_type": "code",
   "execution_count": 56,
   "metadata": {},
   "outputs": [],
   "source": [
    "# import pandas library and path\n",
    "import pandas as pd\n",
    "from pathlib import Path"
   ]
  },
  {
   "cell_type": "code",
   "execution_count": 57,
   "metadata": {},
   "outputs": [],
   "source": [
    "# set budget data csv file path and read csv into dataframe\n",
    "budget_data_csv_path = 'budget_data.csv'\n",
    "budget_data_csv = pd.read_csv(budget_data_csv_path)"
   ]
  },
  {
   "cell_type": "code",
   "execution_count": 58,
   "metadata": {},
   "outputs": [],
   "source": [
    "# calculate number of months\n",
    "months_count = budget_data_csv[\"Date\"].count()"
   ]
  },
  {
   "cell_type": "code",
   "execution_count": 59,
   "metadata": {},
   "outputs": [],
   "source": [
    "# calculate net profit and loss\n",
    "net_pnl = budget_data_csv[\"Profit/Losses\"].sum()"
   ]
  },
  {
   "cell_type": "code",
   "execution_count": 60,
   "metadata": {},
   "outputs": [],
   "source": [
    "# calculate monthly profit and loss change and add column to dataframe\n",
    "budget_data_csv[\"Change\"] = round(budget_data_csv['Profit/Losses'] - budget_data_csv['Profit/Losses'].shift(1), 2)"
   ]
  },
  {
   "cell_type": "code",
   "execution_count": 65,
   "metadata": {},
   "outputs": [],
   "source": [
    "# calculate average monthly pnl\n",
    "average_change = round(budget_data_csv['Change'].sum() / (months_count - 1), 2)"
   ]
  },
  {
   "cell_type": "code",
   "execution_count": 66,
   "metadata": {},
   "outputs": [],
   "source": [
    "# find max increase and max decrease in profits/losses between months\n",
    "max_increase = budget_data_csv['Change'].max()\n",
    "max_increase_date = budget_data_csv['Date'].iloc[budget_data_csv['Change'].idxmax()]\n",
    "max_decrease = budget_data_csv['Change'].min()\n",
    "max_decrease_date = budget_data_csv['Date'].iloc[budget_data_csv['Change'].idxmin()]"
   ]
  },
  {
   "cell_type": "code",
   "execution_count": 67,
   "metadata": {},
   "outputs": [
    {
     "name": "stdout",
     "output_type": "stream",
     "text": [
      "Financial Analysis\n",
      "-------------------\n",
      "Total Months: 86\n",
      "Total: $38382578.00\n",
      "Average Change: $-2315.12\n",
      "Greatest Increase In Profits: Feb-2012 ($1926159.00)\n",
      "Greatest Decrease In Profits: Sep-2013 ($-2196167.00)\n"
     ]
    }
   ],
   "source": [
    "# print out results\n",
    "print(\"Financial Analysis\")\n",
    "print(\"-------------------\")\n",
    "print(f\"Total Months: {months_count}\")\n",
    "print(f\"Total: ${net_pnl:.2f}\")\n",
    "print(f\"Average Change: ${average_change:.2f}\")\n",
    "print(f\"Greatest Increase In Profits: {max_increase_date} (${max_increase:.2f})\")\n",
    "print(f\"Greatest Decrease In Profits: {max_decrease_date} (${max_decrease:.2f})\")"
   ]
  },
  {
   "cell_type": "code",
   "execution_count": null,
   "metadata": {},
   "outputs": [],
   "source": []
  }
 ],
 "metadata": {
  "kernelspec": {
   "display_name": "Python 3",
   "language": "python",
   "name": "python3"
  },
  "language_info": {
   "codemirror_mode": {
    "name": "ipython",
    "version": 3
   },
   "file_extension": ".py",
   "mimetype": "text/x-python",
   "name": "python",
   "nbconvert_exporter": "python",
   "pygments_lexer": "ipython3",
   "version": "3.7.9"
  }
 },
 "nbformat": 4,
 "nbformat_minor": 4
}
