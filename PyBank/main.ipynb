{
 "cells": [
  {
   "cell_type": "markdown",
   "metadata": {},
   "source": [
    "# PyBank Homework"
   ]
  },
  {
   "cell_type": "code",
   "execution_count": null,
   "metadata": {},
   "outputs": [],
   "source": [
    "# import pandas library and path\n",
    "import pandas as pd\n",
    "from pathlib import Path"
   ]
  },
  {
   "cell_type": "code",
   "execution_count": null,
   "metadata": {},
   "outputs": [],
   "source": [
    "# set budget data csv file path and read csv into dataframe\n",
    "budget_data_csv_path = 'budget_data.csv'\n",
    "budget_data_csv = pd.read_csv(budget_data_csv_path)"
   ]
  },
  {
   "cell_type": "code",
   "execution_count": null,
   "metadata": {},
   "outputs": [],
   "source": [
    "# calculate number of months\n",
    "months_count = budget_data_csv[\"Date\"].count()"
   ]
  },
  {
   "cell_type": "code",
   "execution_count": null,
   "metadata": {},
   "outputs": [],
   "source": [
    "# calculate net profit and loss\n",
    "net_pnl = budget_data_csv[\"Profit/Losses\"].sum()"
   ]
  },
  {
   "cell_type": "code",
   "execution_count": null,
   "metadata": {},
   "outputs": [],
   "source": [
    "# calculate monthly profit and loss change and add column to dataframe\n",
    "budget_data_csv[\"Change\"] = round(budget_data_csv['Profit/Losses'] - budget_data_csv['Profit/Losses'].shift(1), 2)"
   ]
  },
  {
   "cell_type": "code",
   "execution_count": null,
   "metadata": {},
   "outputs": [],
   "source": [
    "# calculate average monthly pnl\n",
    "average_change = round(budget_data_csv['Change'].sum() / (months_count - 1), 2)"
   ]
  },
  {
   "cell_type": "code",
   "execution_count": null,
   "metadata": {},
   "outputs": [],
   "source": [
    "# find max increase and max decrease in profits/losses between months\n",
    "max_increase = budget_data_csv['Change'].max()\n",
    "max_increase_date = budget_data_csv['Date'].iloc[budget_data_csv['Change'].idxmax()]\n",
    "max_decrease = budget_data_csv['Change'].min()\n",
    "max_decrease_date = budget_data_csv['Date'].iloc[budget_data_csv['Change'].idxmin()]"
   ]
  },
  {
   "cell_type": "code",
   "execution_count": null,
   "metadata": {},
   "outputs": [],
   "source": [
    "# print out results\n",
    "print(\"Financial Analysis\")\n",
    "print(\"-------------------\")\n",
    "print(f\"Total Months: {months_count}\")\n",
    "print(f\"Total: ${net_pnl:.2f}\")\n",
    "print(f\"Average Change: ${average_change:.2f}\")\n",
    "print(f\"Greatest Increase In Profits: {max_increase_date} (${max_increase:.2f})\")\n",
    "print(f\"Greatest Decrease In Profits: {max_decrease_date} (${max_decrease:.2f})\")"
   ]
  },
  {
   "cell_type": "code",
   "execution_count": null,
   "metadata": {},
   "outputs": [],
   "source": []
  }
 ],
 "metadata": {
  "kernelspec": {
   "display_name": "Python 3",
   "language": "python",
   "name": "python3"
  },
  "language_info": {
   "codemirror_mode": {
    "name": "ipython",
    "version": 3
   },
   "file_extension": ".py",
   "mimetype": "text/x-python",
   "name": "python",
   "nbconvert_exporter": "python",
   "pygments_lexer": "ipython3",
   "version": "3.8.3"
  }
 },
 "nbformat": 4,
 "nbformat_minor": 4
}
